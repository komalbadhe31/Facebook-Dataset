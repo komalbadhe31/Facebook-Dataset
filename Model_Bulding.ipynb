{
  "nbformat": 4,
  "nbformat_minor": 0,
  "metadata": {
    "colab": {
      "name": "Model Bulding.ipynb",
      "provenance": [],
      "collapsed_sections": []
    },
    "kernelspec": {
      "name": "python3",
      "display_name": "Python 3"
    },
    "language_info": {
      "name": "python"
    }
  },
  "cells": [
    {
      "cell_type": "markdown",
      "source": [
        "**Name:** Komal P. Badhe"
      ],
      "metadata": {
        "id": "olid2ZCZ0e_O"
      }
    },
    {
      "cell_type": "markdown",
      "source": [
        "**Roll no:** 20013069"
      ],
      "metadata": {
        "id": "RJkx3QB30i0p"
      }
    },
    {
      "cell_type": "markdown",
      "source": [
        "**Class:** TE-IT"
      ],
      "metadata": {
        "id": "s5-5zyAQ0lb_"
      }
    },
    {
      "cell_type": "markdown",
      "source": [
        "#Importing required Libraries"
      ],
      "metadata": {
        "id": "eLDPJxKt0ZjC"
      }
    },
    {
      "cell_type": "code",
      "source": [
        "import pandas as pd\n",
        "import numpy as np\n",
        "import matplotlib.pyplot as plt"
      ],
      "metadata": {
        "id": "MowlnXMQzuiE"
      },
      "execution_count": null,
      "outputs": []
    },
    {
      "cell_type": "code",
      "source": [
        "from google.colab import drive\n",
        "drive.mount('/content/drive')"
      ],
      "metadata": {
        "colab": {
          "base_uri": "https://localhost:8080/"
        },
        "id": "hIaWhYMrt0Oc",
        "outputId": "b347f593-fe40-4820-dc8a-b72bdb1fbf4c"
      },
      "execution_count": null,
      "outputs": [
        {
          "output_type": "stream",
          "name": "stdout",
          "text": [
            "Mounted at /content/drive\n"
          ]
        }
      ]
    },
    {
      "cell_type": "markdown",
      "source": [
        "#Reading the dataset"
      ],
      "metadata": {
        "id": "vke00vM1tx0y"
      }
    },
    {
      "cell_type": "code",
      "source": [
        "air_data = pd.read_csv(\"/content/drive/MyDrive/air_data.csv\");\n",
        "air_data"
      ],
      "metadata": {
        "colab": {
          "base_uri": "https://localhost:8080/",
          "height": 424
        },
        "id": "3OYQLR9Ut3rO",
        "outputId": "a12977c4-0f8f-40c3-9d94-ad5df0b5081c"
      },
      "execution_count": null,
      "outputs": [
        {
          "output_type": "execute_result",
          "data": {
            "text/plain": [
              "     Unnamed: 0  Ozone  Solar.R  Wind  Temp  Month   Day\n",
              "0           NaN    NaN      NaN   NaN   NaN    NaN   NaN\n",
              "1           1.0   41.0    190.0   7.4  67.0    5.0   1.0\n",
              "2           2.0   36.0    118.0   8.0  72.0    5.0   2.0\n",
              "3           3.0   12.0    149.0  12.6  74.0    5.0   3.0\n",
              "4           4.0   18.0    313.0  11.5  62.0    5.0   4.0\n",
              "..          ...    ...      ...   ...   ...    ...   ...\n",
              "105       105.0   28.0    273.0  11.5  82.0    8.0  13.0\n",
              "106       106.0   65.0    157.0   9.7  80.0    8.0  14.0\n",
              "107       107.0    NaN     64.0  11.5  79.0    8.0  15.0\n",
              "108       108.0   22.0     71.0  10.3  77.0    8.0  16.0\n",
              "109         NaN    NaN      NaN   NaN   NaN    NaN   NaN\n",
              "\n",
              "[110 rows x 7 columns]"
            ],
            "text/html": [
              "\n",
              "  <div id=\"df-9421596e-1a8c-4444-a0fb-102e7ad412ce\">\n",
              "    <div class=\"colab-df-container\">\n",
              "      <div>\n",
              "<style scoped>\n",
              "    .dataframe tbody tr th:only-of-type {\n",
              "        vertical-align: middle;\n",
              "    }\n",
              "\n",
              "    .dataframe tbody tr th {\n",
              "        vertical-align: top;\n",
              "    }\n",
              "\n",
              "    .dataframe thead th {\n",
              "        text-align: right;\n",
              "    }\n",
              "</style>\n",
              "<table border=\"1\" class=\"dataframe\">\n",
              "  <thead>\n",
              "    <tr style=\"text-align: right;\">\n",
              "      <th></th>\n",
              "      <th>Unnamed: 0</th>\n",
              "      <th>Ozone</th>\n",
              "      <th>Solar.R</th>\n",
              "      <th>Wind</th>\n",
              "      <th>Temp</th>\n",
              "      <th>Month</th>\n",
              "      <th>Day</th>\n",
              "    </tr>\n",
              "  </thead>\n",
              "  <tbody>\n",
              "    <tr>\n",
              "      <th>0</th>\n",
              "      <td>NaN</td>\n",
              "      <td>NaN</td>\n",
              "      <td>NaN</td>\n",
              "      <td>NaN</td>\n",
              "      <td>NaN</td>\n",
              "      <td>NaN</td>\n",
              "      <td>NaN</td>\n",
              "    </tr>\n",
              "    <tr>\n",
              "      <th>1</th>\n",
              "      <td>1.0</td>\n",
              "      <td>41.0</td>\n",
              "      <td>190.0</td>\n",
              "      <td>7.4</td>\n",
              "      <td>67.0</td>\n",
              "      <td>5.0</td>\n",
              "      <td>1.0</td>\n",
              "    </tr>\n",
              "    <tr>\n",
              "      <th>2</th>\n",
              "      <td>2.0</td>\n",
              "      <td>36.0</td>\n",
              "      <td>118.0</td>\n",
              "      <td>8.0</td>\n",
              "      <td>72.0</td>\n",
              "      <td>5.0</td>\n",
              "      <td>2.0</td>\n",
              "    </tr>\n",
              "    <tr>\n",
              "      <th>3</th>\n",
              "      <td>3.0</td>\n",
              "      <td>12.0</td>\n",
              "      <td>149.0</td>\n",
              "      <td>12.6</td>\n",
              "      <td>74.0</td>\n",
              "      <td>5.0</td>\n",
              "      <td>3.0</td>\n",
              "    </tr>\n",
              "    <tr>\n",
              "      <th>4</th>\n",
              "      <td>4.0</td>\n",
              "      <td>18.0</td>\n",
              "      <td>313.0</td>\n",
              "      <td>11.5</td>\n",
              "      <td>62.0</td>\n",
              "      <td>5.0</td>\n",
              "      <td>4.0</td>\n",
              "    </tr>\n",
              "    <tr>\n",
              "      <th>...</th>\n",
              "      <td>...</td>\n",
              "      <td>...</td>\n",
              "      <td>...</td>\n",
              "      <td>...</td>\n",
              "      <td>...</td>\n",
              "      <td>...</td>\n",
              "      <td>...</td>\n",
              "    </tr>\n",
              "    <tr>\n",
              "      <th>105</th>\n",
              "      <td>105.0</td>\n",
              "      <td>28.0</td>\n",
              "      <td>273.0</td>\n",
              "      <td>11.5</td>\n",
              "      <td>82.0</td>\n",
              "      <td>8.0</td>\n",
              "      <td>13.0</td>\n",
              "    </tr>\n",
              "    <tr>\n",
              "      <th>106</th>\n",
              "      <td>106.0</td>\n",
              "      <td>65.0</td>\n",
              "      <td>157.0</td>\n",
              "      <td>9.7</td>\n",
              "      <td>80.0</td>\n",
              "      <td>8.0</td>\n",
              "      <td>14.0</td>\n",
              "    </tr>\n",
              "    <tr>\n",
              "      <th>107</th>\n",
              "      <td>107.0</td>\n",
              "      <td>NaN</td>\n",
              "      <td>64.0</td>\n",
              "      <td>11.5</td>\n",
              "      <td>79.0</td>\n",
              "      <td>8.0</td>\n",
              "      <td>15.0</td>\n",
              "    </tr>\n",
              "    <tr>\n",
              "      <th>108</th>\n",
              "      <td>108.0</td>\n",
              "      <td>22.0</td>\n",
              "      <td>71.0</td>\n",
              "      <td>10.3</td>\n",
              "      <td>77.0</td>\n",
              "      <td>8.0</td>\n",
              "      <td>16.0</td>\n",
              "    </tr>\n",
              "    <tr>\n",
              "      <th>109</th>\n",
              "      <td>NaN</td>\n",
              "      <td>NaN</td>\n",
              "      <td>NaN</td>\n",
              "      <td>NaN</td>\n",
              "      <td>NaN</td>\n",
              "      <td>NaN</td>\n",
              "      <td>NaN</td>\n",
              "    </tr>\n",
              "  </tbody>\n",
              "</table>\n",
              "<p>110 rows × 7 columns</p>\n",
              "</div>\n",
              "      <button class=\"colab-df-convert\" onclick=\"convertToInteractive('df-9421596e-1a8c-4444-a0fb-102e7ad412ce')\"\n",
              "              title=\"Convert this dataframe to an interactive table.\"\n",
              "              style=\"display:none;\">\n",
              "        \n",
              "  <svg xmlns=\"http://www.w3.org/2000/svg\" height=\"24px\"viewBox=\"0 0 24 24\"\n",
              "       width=\"24px\">\n",
              "    <path d=\"M0 0h24v24H0V0z\" fill=\"none\"/>\n",
              "    <path d=\"M18.56 5.44l.94 2.06.94-2.06 2.06-.94-2.06-.94-.94-2.06-.94 2.06-2.06.94zm-11 1L8.5 8.5l.94-2.06 2.06-.94-2.06-.94L8.5 2.5l-.94 2.06-2.06.94zm10 10l.94 2.06.94-2.06 2.06-.94-2.06-.94-.94-2.06-.94 2.06-2.06.94z\"/><path d=\"M17.41 7.96l-1.37-1.37c-.4-.4-.92-.59-1.43-.59-.52 0-1.04.2-1.43.59L10.3 9.45l-7.72 7.72c-.78.78-.78 2.05 0 2.83L4 21.41c.39.39.9.59 1.41.59.51 0 1.02-.2 1.41-.59l7.78-7.78 2.81-2.81c.8-.78.8-2.07 0-2.86zM5.41 20L4 18.59l7.72-7.72 1.47 1.35L5.41 20z\"/>\n",
              "  </svg>\n",
              "      </button>\n",
              "      \n",
              "  <style>\n",
              "    .colab-df-container {\n",
              "      display:flex;\n",
              "      flex-wrap:wrap;\n",
              "      gap: 12px;\n",
              "    }\n",
              "\n",
              "    .colab-df-convert {\n",
              "      background-color: #E8F0FE;\n",
              "      border: none;\n",
              "      border-radius: 50%;\n",
              "      cursor: pointer;\n",
              "      display: none;\n",
              "      fill: #1967D2;\n",
              "      height: 32px;\n",
              "      padding: 0 0 0 0;\n",
              "      width: 32px;\n",
              "    }\n",
              "\n",
              "    .colab-df-convert:hover {\n",
              "      background-color: #E2EBFA;\n",
              "      box-shadow: 0px 1px 2px rgba(60, 64, 67, 0.3), 0px 1px 3px 1px rgba(60, 64, 67, 0.15);\n",
              "      fill: #174EA6;\n",
              "    }\n",
              "\n",
              "    [theme=dark] .colab-df-convert {\n",
              "      background-color: #3B4455;\n",
              "      fill: #D2E3FC;\n",
              "    }\n",
              "\n",
              "    [theme=dark] .colab-df-convert:hover {\n",
              "      background-color: #434B5C;\n",
              "      box-shadow: 0px 1px 3px 1px rgba(0, 0, 0, 0.15);\n",
              "      filter: drop-shadow(0px 1px 2px rgba(0, 0, 0, 0.3));\n",
              "      fill: #FFFFFF;\n",
              "    }\n",
              "  </style>\n",
              "\n",
              "      <script>\n",
              "        const buttonEl =\n",
              "          document.querySelector('#df-9421596e-1a8c-4444-a0fb-102e7ad412ce button.colab-df-convert');\n",
              "        buttonEl.style.display =\n",
              "          google.colab.kernel.accessAllowed ? 'block' : 'none';\n",
              "\n",
              "        async function convertToInteractive(key) {\n",
              "          const element = document.querySelector('#df-9421596e-1a8c-4444-a0fb-102e7ad412ce');\n",
              "          const dataTable =\n",
              "            await google.colab.kernel.invokeFunction('convertToInteractive',\n",
              "                                                     [key], {});\n",
              "          if (!dataTable) return;\n",
              "\n",
              "          const docLinkHtml = 'Like what you see? Visit the ' +\n",
              "            '<a target=\"_blank\" href=https://colab.research.google.com/notebooks/data_table.ipynb>data table notebook</a>'\n",
              "            + ' to learn more about interactive tables.';\n",
              "          element.innerHTML = '';\n",
              "          dataTable['output_type'] = 'display_data';\n",
              "          await google.colab.output.renderOutput(dataTable, element);\n",
              "          const docLink = document.createElement('div');\n",
              "          docLink.innerHTML = docLinkHtml;\n",
              "          element.appendChild(docLink);\n",
              "        }\n",
              "      </script>\n",
              "    </div>\n",
              "  </div>\n",
              "  "
            ]
          },
          "metadata": {},
          "execution_count": 27
        }
      ]
    },
    {
      "cell_type": "markdown",
      "source": [
        "#Data preparation"
      ],
      "metadata": {
        "id": "UC2OY1qauFH7"
      }
    },
    {
      "cell_type": "code",
      "source": [
        "air_data.columns"
      ],
      "metadata": {
        "colab": {
          "base_uri": "https://localhost:8080/"
        },
        "id": "XJAoG4wKuBDm",
        "outputId": "bd517a23-4c1d-4b5e-ec51-5fcb84628a07"
      },
      "execution_count": null,
      "outputs": [
        {
          "output_type": "execute_result",
          "data": {
            "text/plain": [
              "Index(['Unnamed: 0', 'Ozone', 'Solar.R', 'Wind', 'Temp', 'Month', 'Day'], dtype='object')"
            ]
          },
          "metadata": {},
          "execution_count": 28
        }
      ]
    },
    {
      "cell_type": "code",
      "source": [
        "air_data.shape"
      ],
      "metadata": {
        "colab": {
          "base_uri": "https://localhost:8080/"
        },
        "id": "xCMQqeIZuKa7",
        "outputId": "3d8312ad-ec70-4ac6-cc7b-8f03ffb9b7a9"
      },
      "execution_count": null,
      "outputs": [
        {
          "output_type": "execute_result",
          "data": {
            "text/plain": [
              "(110, 7)"
            ]
          },
          "metadata": {},
          "execution_count": 29
        }
      ]
    },
    {
      "cell_type": "code",
      "source": [
        "air_data.isnull().sum()"
      ],
      "metadata": {
        "colab": {
          "base_uri": "https://localhost:8080/"
        },
        "id": "fx2f-XG9uOFT",
        "outputId": "2c84ed2e-e633-4dbf-f6c7-2b4318a2344e"
      },
      "execution_count": null,
      "outputs": [
        {
          "output_type": "execute_result",
          "data": {
            "text/plain": [
              "Unnamed: 0     2\n",
              "Ozone         36\n",
              "Solar.R        9\n",
              "Wind           2\n",
              "Temp           2\n",
              "Month          2\n",
              "Day            2\n",
              "dtype: int64"
            ]
          },
          "metadata": {},
          "execution_count": 30
        }
      ]
    },
    {
      "cell_type": "code",
      "source": [
        "ozone_mean=air_data['Ozone'].mean()\n",
        "air_data['Ozone']= air_data['Ozone'].fillna(ozone_mean) \n",
        "\n",
        "\n",
        "solar_mean = air_data['Solar.R'].mean()\n",
        "air_data['Solar.R'] = air_data['Solar.R'].fillna(solar_mean)"
      ],
      "metadata": {
        "id": "XZLTpz4juQVC"
      },
      "execution_count": null,
      "outputs": []
    },
    {
      "cell_type": "code",
      "source": [
        "air_data.isnull().sum()"
      ],
      "metadata": {
        "colab": {
          "base_uri": "https://localhost:8080/"
        },
        "id": "QUZ_oU2OuSqH",
        "outputId": "c516c954-9310-44e0-ec29-e6289d800735"
      },
      "execution_count": null,
      "outputs": [
        {
          "output_type": "execute_result",
          "data": {
            "text/plain": [
              "Unnamed: 0    2\n",
              "Ozone         0\n",
              "Solar.R       0\n",
              "Wind          2\n",
              "Temp          2\n",
              "Month         2\n",
              "Day           2\n",
              "dtype: int64"
            ]
          },
          "metadata": {},
          "execution_count": 32
        }
      ]
    },
    {
      "cell_type": "code",
      "source": [
        "air_data.shape"
      ],
      "metadata": {
        "colab": {
          "base_uri": "https://localhost:8080/"
        },
        "id": "Rm-_TdNRVI5Z",
        "outputId": "634b9738-3b6a-4870-ab89-000b1646e4c6"
      },
      "execution_count": null,
      "outputs": [
        {
          "output_type": "execute_result",
          "data": {
            "text/plain": [
              "(110, 7)"
            ]
          },
          "metadata": {},
          "execution_count": 33
        }
      ]
    },
    {
      "cell_type": "code",
      "source": [
        "airD = air_data.dropna()\n",
        "airD.shape"
      ],
      "metadata": {
        "colab": {
          "base_uri": "https://localhost:8080/"
        },
        "id": "H-efZAozVFXW",
        "outputId": "f9a95be7-1aad-4e78-841a-488c3f8647c9"
      },
      "execution_count": null,
      "outputs": [
        {
          "output_type": "execute_result",
          "data": {
            "text/plain": [
              "(108, 7)"
            ]
          },
          "metadata": {},
          "execution_count": 34
        }
      ]
    },
    {
      "cell_type": "markdown",
      "source": [
        "**Deviding dataset in test data and train data**"
      ],
      "metadata": {
        "id": "a4PBftk-zAFW"
      }
    },
    {
      "cell_type": "code",
      "source": [
        "#X=adata[['Month','Solar.R','Wind','Temp']]\n",
        "\n",
        "X=airD[['Wind','Temp']]\n",
        "Y= airD[['Ozone']]"
      ],
      "metadata": {
        "id": "_tiFcflRubxB"
      },
      "execution_count": null,
      "outputs": []
    },
    {
      "cell_type": "code",
      "source": [
        "from sklearn.model_selection import train_test_split\n",
        "\n",
        "x_train,x_test,y_train, y_test = train_test_split(X, Y, test_size=0.25, random_state=42)\n",
        "\n",
        "print(\"Length of x_train = \",len(x_train))\n",
        "print(\"Length of x_test = \",len(x_test))\n",
        "print(\"Length of y_train = \",len(y_train))\n",
        "print(\"Length of y_test = \",len(y_test))"
      ],
      "metadata": {
        "colab": {
          "base_uri": "https://localhost:8080/"
        },
        "id": "0xpprv-xw4xs",
        "outputId": "23aed051-5237-4983-a2a6-ec8336de706e"
      },
      "execution_count": null,
      "outputs": [
        {
          "output_type": "stream",
          "name": "stdout",
          "text": [
            "Length of x_train =  81\n",
            "Length of x_test =  27\n",
            "Length of y_train =  81\n",
            "Length of y_test =  27\n"
          ]
        }
      ]
    },
    {
      "cell_type": "markdown",
      "source": [
        "**Fitting data in the model**"
      ],
      "metadata": {
        "id": "7D9f3fuwxYIK"
      }
    },
    {
      "cell_type": "code",
      "source": [
        "from sklearn.linear_model import LinearRegression"
      ],
      "metadata": {
        "id": "bfV6_mV9ue2_"
      },
      "execution_count": null,
      "outputs": []
    },
    {
      "cell_type": "code",
      "source": [
        "reg = LinearRegression().fit(x_train, y_train)\n",
        "\n",
        "reg.score(x_train,y_train)"
      ],
      "metadata": {
        "colab": {
          "base_uri": "https://localhost:8080/"
        },
        "id": "VRZ1tTFFujpa",
        "outputId": "0a184b94-91d5-4d1d-c290-e6caafa3488c"
      },
      "execution_count": null,
      "outputs": [
        {
          "output_type": "execute_result",
          "data": {
            "text/plain": [
              "0.4012730612090153"
            ]
          },
          "metadata": {},
          "execution_count": 38
        }
      ]
    },
    {
      "cell_type": "markdown",
      "source": [
        "**Prediction of the Data**"
      ],
      "metadata": {
        "id": "R4_GpsdCxRuF"
      }
    },
    {
      "cell_type": "code",
      "source": [
        "y_train_pred = reg.predict(x_train).sum(axis=1)\n",
        "y_train_pred"
      ],
      "metadata": {
        "colab": {
          "base_uri": "https://localhost:8080/"
        },
        "id": "fHFxWb3hunHs",
        "outputId": "6086fdcc-de3e-400b-c469-f711d3ef2c8f"
      },
      "execution_count": null,
      "outputs": [
        {
          "output_type": "execute_result",
          "data": {
            "text/plain": [
              "array([63.1476314 , 22.97504052, 36.0100912 , 62.3382256 , 59.95446677,\n",
              "       36.54381062, 14.48063881, 45.26944015, 49.19638768, 34.31565671,\n",
              "       50.38826709, 16.43746547, 55.38265345, 41.61817901, 47.92888536,\n",
              "       55.61388128, 24.04683849, 60.45702184, 52.84764882, 47.19510247,\n",
              "       10.98062346, 53.61259607, 63.72580936, 26.35497442, 25.2387179 ,\n",
              "       25.3143408 , 56.37882852, 46.76817029,  6.90243014, 69.99205717,\n",
              "       33.70195527, 29.31691122,  1.24988378, 20.59128169, -3.47317533,\n",
              "       62.45830705, -3.16632461, 56.80576069, 31.77629295, 63.53010502,\n",
              "       55.1869491 , 57.11261142, 50.92198651, 40.42629959, 34.31565671,\n",
              "       29.54813905, 68.49332703, 66.22964964, 44.42887001, 57.18823431,\n",
              "       59.11389663, 42.04511118, 30.20193991, 37.20197062, 36.85066134,\n",
              "       34.69813034, 39.61689379, 63.95703719, 29.54813905, 49.27201057,\n",
              "       49.27201057, 49.15192913, 56.0719778 , 58.76258735, 41.6938019 ,\n",
              "       62.99202646, 20.31995444, 32.00752078, 18.0874414 , 47.88442681,\n",
              "       72.4514389 , 46.23445088, 52.03824303, 47.96004971, 21.73870255,\n",
              "       54.80447548, 52.03824303, 11.36309708, 55.30703055, 52.11386592,\n",
              "       49.19638768])"
            ]
          },
          "metadata": {},
          "execution_count": 39
        }
      ]
    },
    {
      "cell_type": "code",
      "source": [
        "y_test_pred = reg.predict(x_test).sum(axis=1)\n",
        "\n",
        "y_test_pred"
      ],
      "metadata": {
        "colab": {
          "base_uri": "https://localhost:8080/"
        },
        "id": "L5nOxBqwxjK6",
        "outputId": "e3d8c02e-bd06-451b-a0d3-67db1dbd9178"
      },
      "execution_count": null,
      "outputs": [
        {
          "output_type": "execute_result",
          "data": {
            "text/plain": [
              "array([47.57757609, 46.96387464,  6.09302434, 44.42887001, 54.03952824,\n",
              "       68.37324558, 48.03567261, 40.85323176, 61.26642763, 33.65749671,\n",
              "       46.96387464, 67.18136616, 37.30875786, 48.00450826, 27.74255818,\n",
              "       71.56641021, 48.8450784 , 55.30703055, 40.85323176, 62.38268415,\n",
              "       31.39381933, 33.50625092, 48.38698188, 23.81561066, 24.12246138,\n",
              "       47.27072536,  8.36999594])"
            ]
          },
          "metadata": {},
          "execution_count": 40
        }
      ]
    },
    {
      "cell_type": "markdown",
      "source": [
        "#Correlation matrix"
      ],
      "metadata": {
        "id": "DGo_lI6uzPCh"
      }
    },
    {
      "cell_type": "code",
      "source": [
        "matrix = air_data.corr()\n",
        "\n",
        "matrix"
      ],
      "metadata": {
        "colab": {
          "base_uri": "https://localhost:8080/",
          "height": 269
        },
        "id": "bSLvSnQ1uqo4",
        "outputId": "ee669b0d-6b0a-4067-d13c-b6d29384026c"
      },
      "execution_count": null,
      "outputs": [
        {
          "output_type": "execute_result",
          "data": {
            "text/plain": [
              "            Unnamed: 0     Ozone   Solar.R      Wind      Temp     Month  \\\n",
              "Unnamed: 0    1.000000  0.426854 -0.041716 -0.299195  0.709330  0.961619   \n",
              "Ozone         0.426854  1.000000  0.325547 -0.463648  0.572369  0.425781   \n",
              "Solar.R      -0.041716  0.325547  1.000000 -0.048794  0.289614  0.006278   \n",
              "Wind         -0.299195 -0.463648 -0.048794  1.000000 -0.401515 -0.302494   \n",
              "Temp          0.709330  0.572369  0.289614 -0.401515  1.000000  0.735921   \n",
              "Month         0.961619  0.425781  0.006278 -0.302494  0.735921  1.000000   \n",
              "Day           0.072816 -0.021795 -0.168179  0.030999 -0.146081 -0.203542   \n",
              "\n",
              "                 Day  \n",
              "Unnamed: 0  0.072816  \n",
              "Ozone      -0.021795  \n",
              "Solar.R    -0.168179  \n",
              "Wind        0.030999  \n",
              "Temp       -0.146081  \n",
              "Month      -0.203542  \n",
              "Day         1.000000  "
            ],
            "text/html": [
              "\n",
              "  <div id=\"df-d21914eb-f0e3-4c00-bb5c-80ed44120c96\">\n",
              "    <div class=\"colab-df-container\">\n",
              "      <div>\n",
              "<style scoped>\n",
              "    .dataframe tbody tr th:only-of-type {\n",
              "        vertical-align: middle;\n",
              "    }\n",
              "\n",
              "    .dataframe tbody tr th {\n",
              "        vertical-align: top;\n",
              "    }\n",
              "\n",
              "    .dataframe thead th {\n",
              "        text-align: right;\n",
              "    }\n",
              "</style>\n",
              "<table border=\"1\" class=\"dataframe\">\n",
              "  <thead>\n",
              "    <tr style=\"text-align: right;\">\n",
              "      <th></th>\n",
              "      <th>Unnamed: 0</th>\n",
              "      <th>Ozone</th>\n",
              "      <th>Solar.R</th>\n",
              "      <th>Wind</th>\n",
              "      <th>Temp</th>\n",
              "      <th>Month</th>\n",
              "      <th>Day</th>\n",
              "    </tr>\n",
              "  </thead>\n",
              "  <tbody>\n",
              "    <tr>\n",
              "      <th>Unnamed: 0</th>\n",
              "      <td>1.000000</td>\n",
              "      <td>0.426854</td>\n",
              "      <td>-0.041716</td>\n",
              "      <td>-0.299195</td>\n",
              "      <td>0.709330</td>\n",
              "      <td>0.961619</td>\n",
              "      <td>0.072816</td>\n",
              "    </tr>\n",
              "    <tr>\n",
              "      <th>Ozone</th>\n",
              "      <td>0.426854</td>\n",
              "      <td>1.000000</td>\n",
              "      <td>0.325547</td>\n",
              "      <td>-0.463648</td>\n",
              "      <td>0.572369</td>\n",
              "      <td>0.425781</td>\n",
              "      <td>-0.021795</td>\n",
              "    </tr>\n",
              "    <tr>\n",
              "      <th>Solar.R</th>\n",
              "      <td>-0.041716</td>\n",
              "      <td>0.325547</td>\n",
              "      <td>1.000000</td>\n",
              "      <td>-0.048794</td>\n",
              "      <td>0.289614</td>\n",
              "      <td>0.006278</td>\n",
              "      <td>-0.168179</td>\n",
              "    </tr>\n",
              "    <tr>\n",
              "      <th>Wind</th>\n",
              "      <td>-0.299195</td>\n",
              "      <td>-0.463648</td>\n",
              "      <td>-0.048794</td>\n",
              "      <td>1.000000</td>\n",
              "      <td>-0.401515</td>\n",
              "      <td>-0.302494</td>\n",
              "      <td>0.030999</td>\n",
              "    </tr>\n",
              "    <tr>\n",
              "      <th>Temp</th>\n",
              "      <td>0.709330</td>\n",
              "      <td>0.572369</td>\n",
              "      <td>0.289614</td>\n",
              "      <td>-0.401515</td>\n",
              "      <td>1.000000</td>\n",
              "      <td>0.735921</td>\n",
              "      <td>-0.146081</td>\n",
              "    </tr>\n",
              "    <tr>\n",
              "      <th>Month</th>\n",
              "      <td>0.961619</td>\n",
              "      <td>0.425781</td>\n",
              "      <td>0.006278</td>\n",
              "      <td>-0.302494</td>\n",
              "      <td>0.735921</td>\n",
              "      <td>1.000000</td>\n",
              "      <td>-0.203542</td>\n",
              "    </tr>\n",
              "    <tr>\n",
              "      <th>Day</th>\n",
              "      <td>0.072816</td>\n",
              "      <td>-0.021795</td>\n",
              "      <td>-0.168179</td>\n",
              "      <td>0.030999</td>\n",
              "      <td>-0.146081</td>\n",
              "      <td>-0.203542</td>\n",
              "      <td>1.000000</td>\n",
              "    </tr>\n",
              "  </tbody>\n",
              "</table>\n",
              "</div>\n",
              "      <button class=\"colab-df-convert\" onclick=\"convertToInteractive('df-d21914eb-f0e3-4c00-bb5c-80ed44120c96')\"\n",
              "              title=\"Convert this dataframe to an interactive table.\"\n",
              "              style=\"display:none;\">\n",
              "        \n",
              "  <svg xmlns=\"http://www.w3.org/2000/svg\" height=\"24px\"viewBox=\"0 0 24 24\"\n",
              "       width=\"24px\">\n",
              "    <path d=\"M0 0h24v24H0V0z\" fill=\"none\"/>\n",
              "    <path d=\"M18.56 5.44l.94 2.06.94-2.06 2.06-.94-2.06-.94-.94-2.06-.94 2.06-2.06.94zm-11 1L8.5 8.5l.94-2.06 2.06-.94-2.06-.94L8.5 2.5l-.94 2.06-2.06.94zm10 10l.94 2.06.94-2.06 2.06-.94-2.06-.94-.94-2.06-.94 2.06-2.06.94z\"/><path d=\"M17.41 7.96l-1.37-1.37c-.4-.4-.92-.59-1.43-.59-.52 0-1.04.2-1.43.59L10.3 9.45l-7.72 7.72c-.78.78-.78 2.05 0 2.83L4 21.41c.39.39.9.59 1.41.59.51 0 1.02-.2 1.41-.59l7.78-7.78 2.81-2.81c.8-.78.8-2.07 0-2.86zM5.41 20L4 18.59l7.72-7.72 1.47 1.35L5.41 20z\"/>\n",
              "  </svg>\n",
              "      </button>\n",
              "      \n",
              "  <style>\n",
              "    .colab-df-container {\n",
              "      display:flex;\n",
              "      flex-wrap:wrap;\n",
              "      gap: 12px;\n",
              "    }\n",
              "\n",
              "    .colab-df-convert {\n",
              "      background-color: #E8F0FE;\n",
              "      border: none;\n",
              "      border-radius: 50%;\n",
              "      cursor: pointer;\n",
              "      display: none;\n",
              "      fill: #1967D2;\n",
              "      height: 32px;\n",
              "      padding: 0 0 0 0;\n",
              "      width: 32px;\n",
              "    }\n",
              "\n",
              "    .colab-df-convert:hover {\n",
              "      background-color: #E2EBFA;\n",
              "      box-shadow: 0px 1px 2px rgba(60, 64, 67, 0.3), 0px 1px 3px 1px rgba(60, 64, 67, 0.15);\n",
              "      fill: #174EA6;\n",
              "    }\n",
              "\n",
              "    [theme=dark] .colab-df-convert {\n",
              "      background-color: #3B4455;\n",
              "      fill: #D2E3FC;\n",
              "    }\n",
              "\n",
              "    [theme=dark] .colab-df-convert:hover {\n",
              "      background-color: #434B5C;\n",
              "      box-shadow: 0px 1px 3px 1px rgba(0, 0, 0, 0.15);\n",
              "      filter: drop-shadow(0px 1px 2px rgba(0, 0, 0, 0.3));\n",
              "      fill: #FFFFFF;\n",
              "    }\n",
              "  </style>\n",
              "\n",
              "      <script>\n",
              "        const buttonEl =\n",
              "          document.querySelector('#df-d21914eb-f0e3-4c00-bb5c-80ed44120c96 button.colab-df-convert');\n",
              "        buttonEl.style.display =\n",
              "          google.colab.kernel.accessAllowed ? 'block' : 'none';\n",
              "\n",
              "        async function convertToInteractive(key) {\n",
              "          const element = document.querySelector('#df-d21914eb-f0e3-4c00-bb5c-80ed44120c96');\n",
              "          const dataTable =\n",
              "            await google.colab.kernel.invokeFunction('convertToInteractive',\n",
              "                                                     [key], {});\n",
              "          if (!dataTable) return;\n",
              "\n",
              "          const docLinkHtml = 'Like what you see? Visit the ' +\n",
              "            '<a target=\"_blank\" href=https://colab.research.google.com/notebooks/data_table.ipynb>data table notebook</a>'\n",
              "            + ' to learn more about interactive tables.';\n",
              "          element.innerHTML = '';\n",
              "          dataTable['output_type'] = 'display_data';\n",
              "          await google.colab.output.renderOutput(dataTable, element);\n",
              "          const docLink = document.createElement('div');\n",
              "          docLink.innerHTML = docLinkHtml;\n",
              "          element.appendChild(docLink);\n",
              "        }\n",
              "      </script>\n",
              "    </div>\n",
              "  </div>\n",
              "  "
            ]
          },
          "metadata": {},
          "execution_count": 41
        }
      ]
    },
    {
      "cell_type": "code",
      "source": [
        "import statsmodels.api as sm\n",
        "import matplotlib.pyplot as plt\n",
        "import seaborn as sns;"
      ],
      "metadata": {
        "id": "r_FNCEAtW4P5"
      },
      "execution_count": null,
      "outputs": []
    },
    {
      "cell_type": "code",
      "source": [
        "sm.graphics.plot_corr(matrix,xnames = list(matrix.columns))\n",
        "plt.show()"
      ],
      "metadata": {
        "colab": {
          "base_uri": "https://localhost:8080/",
          "height": 297
        },
        "id": "OvWWg734WvtW",
        "outputId": "0934f781-8009-47a1-a0ea-85156e0e6892"
      },
      "execution_count": null,
      "outputs": [
        {
          "output_type": "display_data",
          "data": {
            "text/plain": [
              "<Figure size 432x288 with 2 Axes>"
            ],
            "image/png": "[encoded data removed]"
          },
          "metadata": {
            "needs_background": "light"
          }
        }
      ]
    },
    {
      "cell_type": "code",
      "source": [
        "hmap = sns.heatmap(matrix)"
      ],
      "metadata": {
        "colab": {
          "base_uri": "https://localhost:8080/",
          "height": 320
        },
        "id": "PPibso9kXw0e",
        "outputId": "b1fd239c-480a-41b3-d856-f6da0b52786e"
      },
      "execution_count": null,
      "outputs": [
        {
          "output_type": "display_data",
          "data": {
            "text/plain": [
              "<Figure size 432x288 with 2 Axes>"
            ],
            "image/png": "[encoded data removed]"
          },
          "metadata": {
            "needs_background": "light"
          }
        }
      ]
    },
    {
      "cell_type": "markdown",
      "source": [
        "# R2"
      ],
      "metadata": {
        "id": "svFs9f0Tu05r"
      }
    },
    {
      "cell_type": "code",
      "source": [
        "from sklearn.metrics import r2_score\n",
        "\n",
        "print('R^2 train: ', r2_score(y_train, y_train_pred))\n",
        "print('R^2 test: ', r2_score(y_test, y_test_pred))"
      ],
      "metadata": {
        "colab": {
          "base_uri": "https://localhost:8080/"
        },
        "id": "H1jarO_-uzPY",
        "outputId": "4c27a086-cdd0-40d4-83c1-14fe9446cbd8"
      },
      "execution_count": null,
      "outputs": [
        {
          "output_type": "stream",
          "name": "stdout",
          "text": [
            "R^2 train:  0.4012730612090153\n",
            "R^2 test:  0.32824702696228314\n"
          ]
        }
      ]
    },
    {
      "cell_type": "markdown",
      "source": [
        "#MSE"
      ],
      "metadata": {
        "id": "j7EcKX5MvPVv"
      }
    },
    {
      "cell_type": "code",
      "source": [
        "from sklearn.metrics import mean_squared_error\n",
        "\n",
        "mse = mean_squared_error(y_train, y_train_pred)\n",
        "print('MSE train: ', mean_squared_error(y_train, y_train_pred))\n",
        "print('MSE test: ', mean_squared_error(y_test, y_test_pred))"
      ],
      "metadata": {
        "colab": {
          "base_uri": "https://localhost:8080/"
        },
        "id": "BoIIje0WvSNf",
        "outputId": "0b0cb24a-5206-45c9-c834-39875a1c9569"
      },
      "execution_count": null,
      "outputs": [
        {
          "output_type": "stream",
          "name": "stdout",
          "text": [
            "MSE train:  467.35486999346057\n",
            "MSE test:  314.98273140874227\n"
          ]
        }
      ]
    },
    {
      "cell_type": "markdown",
      "source": [
        "#RMSE"
      ],
      "metadata": {
        "id": "AtLOwOBMvYuN"
      }
    },
    {
      "cell_type": "code",
      "source": [
        "import math\n",
        "\n",
        "rmse = mean_squared_error(y_train, y_train_pred, squared=False)\n",
        "rmse1 = math.sqrt(mse)\n",
        "\n",
        "rmse"
      ],
      "metadata": {
        "colab": {
          "base_uri": "https://localhost:8080/"
        },
        "id": "BhOo0QcYva58",
        "outputId": "d78b938c-b8df-4acc-e790-e9c00753755a"
      },
      "execution_count": null,
      "outputs": [
        {
          "output_type": "execute_result",
          "data": {
            "text/plain": [
              "21.618391938196066"
            ]
          },
          "metadata": {},
          "execution_count": 47
        }
      ]
    },
    {
      "cell_type": "markdown",
      "source": [
        "#Regression Coefficent "
      ],
      "metadata": {
        "id": "r-auQM_zvg71"
      }
    },
    {
      "cell_type": "code",
      "source": [
        "print('Regression Coefficients: ', reg.coef_) "
      ],
      "metadata": {
        "colab": {
          "base_uri": "https://localhost:8080/"
        },
        "id": "eDHj_YWxvm3R",
        "outputId": "cc0cffa5-7100-4008-f9f4-6ce75cace2f1"
      },
      "execution_count": null,
      "outputs": [
        {
          "output_type": "stream",
          "name": "stdout",
          "text": [
            "Regression Coefficients:  [[-2.62392173  1.19187942]]\n"
          ]
        }
      ]
    },
    {
      "cell_type": "markdown",
      "source": [
        "#Regression Intercept"
      ],
      "metadata": {
        "id": "YiGb1hWTvr6N"
      }
    },
    {
      "cell_type": "code",
      "source": [
        "print('Regression intercept : ',reg.intercept_)"
      ],
      "metadata": {
        "colab": {
          "base_uri": "https://localhost:8080/"
        },
        "id": "2MxZ6GifvsTb",
        "outputId": "71a1990b-91b8-4e26-ef7d-0ea5b058c3d3"
      },
      "execution_count": null,
      "outputs": [
        {
          "output_type": "stream",
          "name": "stdout",
          "text": [
            "Regression intercept :  [-23.13014223]\n"
          ]
        }
      ]
    },
    {
      "cell_type": "markdown",
      "source": [
        "#Summary"
      ],
      "metadata": {
        "id": "BYYDt_UuyvDT"
      }
    },
    {
      "cell_type": "code",
      "source": [
        "import statsmodels.api as sm\n",
        "res=sm.OLS(Y,X).fit()\n",
        "print(res.summary())"
      ],
      "metadata": {
        "colab": {
          "base_uri": "https://localhost:8080/"
        },
        "id": "RfRa0LBPylXv",
        "outputId": "dbb7386d-74cc-4508-e3b3-1969dac7f116"
      },
      "execution_count": null,
      "outputs": [
        {
          "output_type": "stream",
          "name": "stdout",
          "text": [
            "                                 OLS Regression Results                                \n",
            "=======================================================================================\n",
            "Dep. Variable:                  Ozone   R-squared (uncentered):                   0.825\n",
            "Model:                            OLS   Adj. R-squared (uncentered):              0.822\n",
            "Method:                 Least Squares   F-statistic:                              250.4\n",
            "Date:                Fri, 29 Apr 2022   Prob (F-statistic):                    6.96e-41\n",
            "Time:                        07:33:23   Log-Likelihood:                         -481.58\n",
            "No. Observations:                 108   AIC:                                      967.2\n",
            "Df Residuals:                     106   BIC:                                      972.5\n",
            "Df Model:                           2                                                  \n",
            "Covariance Type:            nonrobust                                                  \n",
            "==============================================================================\n",
            "                 coef    std err          t      P>|t|      [0.025      0.975]\n",
            "------------------------------------------------------------------------------\n",
            "Wind          -2.7703      0.491     -5.643      0.000      -3.744      -1.797\n",
            "Temp           0.9131      0.067     13.596      0.000       0.780       1.046\n",
            "==============================================================================\n",
            "Omnibus:                       15.720   Durbin-Watson:                   1.630\n",
            "Prob(Omnibus):                  0.000   Jarque-Bera (JB):               17.738\n",
            "Skew:                           0.885   Prob(JB):                     0.000141\n",
            "Kurtosis:                       3.901   Cond. No.                         19.2\n",
            "==============================================================================\n",
            "\n",
            "Warnings:\n",
            "[1] Standard Errors assume that the covariance matrix of the errors is correctly specified.\n"
          ]
        }
      ]
    }
  ]
}